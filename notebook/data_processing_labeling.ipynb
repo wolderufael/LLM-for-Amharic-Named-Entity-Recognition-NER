{
 "cells": [
  {
   "cell_type": "markdown",
   "metadata": {},
   "source": [
    "# Data Procesing and Labeling\n"
   ]
  },
  {
   "cell_type": "code",
   "execution_count": 1,
   "metadata": {},
   "outputs": [],
   "source": [
    "import pandas as pd\n",
    "import os\n",
    "notebook_dir = os.getcwd()\n",
    "parent_path=os.path.dirname(notebook_dir)\n",
    "\n",
    "os.chdir(parent_path)"
   ]
  },
  {
   "cell_type": "code",
   "execution_count": 2,
   "metadata": {},
   "outputs": [],
   "source": [
    "from script.data_processor_labler import Processor"
   ]
  },
  {
   "cell_type": "markdown",
   "metadata": {},
   "source": [
    "**Instance of the imported class**"
   ]
  },
  {
   "cell_type": "code",
   "execution_count": 3,
   "metadata": {},
   "outputs": [],
   "source": [
    "processor=Processor()"
   ]
  },
  {
   "cell_type": "markdown",
   "metadata": {},
   "source": [
    "**Load the data which was scrapped from**"
   ]
  },
  {
   "cell_type": "code",
   "execution_count": 4,
   "metadata": {},
   "outputs": [],
   "source": [
    "tg_data=pd.read_csv(\"data/adamagebeya_telegram_data.csv\")"
   ]
  },
  {
   "cell_type": "markdown",
   "metadata": {},
   "source": [
    "### Handle missing data\n",
    "Drop the row which does not have a messgae"
   ]
  },
  {
   "cell_type": "code",
   "execution_count": 5,
   "metadata": {},
   "outputs": [
    {
     "data": {
      "text/html": [
       "<div>\n",
       "<style scoped>\n",
       "    .dataframe tbody tr th:only-of-type {\n",
       "        vertical-align: middle;\n",
       "    }\n",
       "\n",
       "    .dataframe tbody tr th {\n",
       "        vertical-align: top;\n",
       "    }\n",
       "\n",
       "    .dataframe thead th {\n",
       "        text-align: right;\n",
       "    }\n",
       "</style>\n",
       "<table border=\"1\" class=\"dataframe\">\n",
       "  <thead>\n",
       "    <tr style=\"text-align: right;\">\n",
       "      <th></th>\n",
       "      <th>Channel Title</th>\n",
       "      <th>Channel Username</th>\n",
       "      <th>ID</th>\n",
       "      <th>Message</th>\n",
       "      <th>Date</th>\n",
       "      <th>Media Path</th>\n",
       "    </tr>\n",
       "  </thead>\n",
       "  <tbody>\n",
       "    <tr>\n",
       "      <th>0</th>\n",
       "      <td>አዳማ ገበያ - Adama gebeya</td>\n",
       "      <td>@gebeyaadama</td>\n",
       "      <td>4043</td>\n",
       "      <td>✅Hot Water Bag\\n🎯 የትኩስ ውሃ መያዢያ ከረጢት\\n👉 1.8 ሊትር...</td>\n",
       "      <td>2024-09-25 08:36:52+00:00</td>\n",
       "      <td>photos/@gebeyaadama_4043.jpg</td>\n",
       "    </tr>\n",
       "    <tr>\n",
       "      <th>1</th>\n",
       "      <td>አዳማ ገበያ - Adama gebeya</td>\n",
       "      <td>@gebeyaadama</td>\n",
       "      <td>4042</td>\n",
       "      <td>❇️Hair Scalp Massager</td>\n",
       "      <td>2024-09-25 08:33:14+00:00</td>\n",
       "      <td>NaN</td>\n",
       "    </tr>\n",
       "    <tr>\n",
       "      <th>2</th>\n",
       "      <td>አዳማ ገበያ - Adama gebeya</td>\n",
       "      <td>@gebeyaadama</td>\n",
       "      <td>4041</td>\n",
       "      <td>❇️Hair Scalp Massager\\n\\n﻿﻿👉Stimulate blood fl...</td>\n",
       "      <td>2024-09-25 08:32:54+00:00</td>\n",
       "      <td>photos/@gebeyaadama_4041.jpg</td>\n",
       "    </tr>\n",
       "    <tr>\n",
       "      <th>3</th>\n",
       "      <td>አዳማ ገበያ - Adama gebeya</td>\n",
       "      <td>@gebeyaadama</td>\n",
       "      <td>4040</td>\n",
       "      <td>የፀጉር መፈረዣ</td>\n",
       "      <td>2024-09-25 07:19:39+00:00</td>\n",
       "      <td>NaN</td>\n",
       "    </tr>\n",
       "    <tr>\n",
       "      <th>4</th>\n",
       "      <td>አዳማ ገበያ - Adama gebeya</td>\n",
       "      <td>@gebeyaadama</td>\n",
       "      <td>4039</td>\n",
       "      <td>✅ የፀጉር መፈረዣ ✅\\n\\n📌ለሁሉም አይነት ፀጉር የሚሆን እና ለ አጠቃቀ...</td>\n",
       "      <td>2024-09-25 07:19:27+00:00</td>\n",
       "      <td>photos/@gebeyaadama_4039.jpg</td>\n",
       "    </tr>\n",
       "    <tr>\n",
       "      <th>...</th>\n",
       "      <td>...</td>\n",
       "      <td>...</td>\n",
       "      <td>...</td>\n",
       "      <td>...</td>\n",
       "      <td>...</td>\n",
       "      <td>...</td>\n",
       "    </tr>\n",
       "    <tr>\n",
       "      <th>3298</th>\n",
       "      <td>አዳማ ገበያ - Adama gebeya</td>\n",
       "      <td>@gebeyaadama</td>\n",
       "      <td>17</td>\n",
       "      <td>☎️0911-76-22-01\\n     ዋጋ 1200 ብር \\n❣️❣️🇪🇹🇪🇹 በ ...</td>\n",
       "      <td>2020-10-06 09:06:46+00:00</td>\n",
       "      <td>NaN</td>\n",
       "    </tr>\n",
       "    <tr>\n",
       "      <th>3301</th>\n",
       "      <td>አዳማ ገበያ - Adama gebeya</td>\n",
       "      <td>@gebeyaadama</td>\n",
       "      <td>14</td>\n",
       "      <td>❤️❤️❤️ አዳማ ❤️❤️❤️\\n     🎯የጀርባ ችግር አለቦት\\n      ...</td>\n",
       "      <td>2020-10-05 18:04:46+00:00</td>\n",
       "      <td>photos/@gebeyaadama_14.jpg</td>\n",
       "    </tr>\n",
       "    <tr>\n",
       "      <th>3304</th>\n",
       "      <td>አዳማ ገበያ - Adama gebeya</td>\n",
       "      <td>@gebeyaadama</td>\n",
       "      <td>10</td>\n",
       "      <td>❣ለውስን ጊዜ የሚቆይ ታላቅ ቅናሽ❣\\n  💯አንድ  Smart watch ሲገ...</td>\n",
       "      <td>2020-10-05 12:08:36+00:00</td>\n",
       "      <td>photos/@gebeyaadama_10.jpg</td>\n",
       "    </tr>\n",
       "    <tr>\n",
       "      <th>3305</th>\n",
       "      <td>አዳማ ገበያ - Adama gebeya</td>\n",
       "      <td>@gebeyaadama</td>\n",
       "      <td>9</td>\n",
       "      <td>❤ አዳማ /ናዝሬት ❤\\n           0911-76-22-01\\n❣️❣️🇪...</td>\n",
       "      <td>2020-10-05 04:58:56+00:00</td>\n",
       "      <td>photos/@gebeyaadama_9.jpg</td>\n",
       "    </tr>\n",
       "    <tr>\n",
       "      <th>3309</th>\n",
       "      <td>አዳማ ገበያ - Adama gebeya</td>\n",
       "      <td>@gebeyaadama</td>\n",
       "      <td>3</td>\n",
       "      <td>☎️  0911-76-22-01\\n        🇪🇹 አዳማ / ናዝሬት 🇪🇹\\n ...</td>\n",
       "      <td>2020-10-03 12:59:26+00:00</td>\n",
       "      <td>NaN</td>\n",
       "    </tr>\n",
       "  </tbody>\n",
       "</table>\n",
       "<p>2488 rows × 6 columns</p>\n",
       "</div>"
      ],
      "text/plain": [
       "               Channel Title Channel Username    ID  \\\n",
       "0     አዳማ ገበያ - Adama gebeya     @gebeyaadama  4043   \n",
       "1     አዳማ ገበያ - Adama gebeya     @gebeyaadama  4042   \n",
       "2     አዳማ ገበያ - Adama gebeya     @gebeyaadama  4041   \n",
       "3     አዳማ ገበያ - Adama gebeya     @gebeyaadama  4040   \n",
       "4     አዳማ ገበያ - Adama gebeya     @gebeyaadama  4039   \n",
       "...                      ...              ...   ...   \n",
       "3298  አዳማ ገበያ - Adama gebeya     @gebeyaadama    17   \n",
       "3301  አዳማ ገበያ - Adama gebeya     @gebeyaadama    14   \n",
       "3304  አዳማ ገበያ - Adama gebeya     @gebeyaadama    10   \n",
       "3305  አዳማ ገበያ - Adama gebeya     @gebeyaadama     9   \n",
       "3309  አዳማ ገበያ - Adama gebeya     @gebeyaadama     3   \n",
       "\n",
       "                                                Message  \\\n",
       "0     ✅Hot Water Bag\\n🎯 የትኩስ ውሃ መያዢያ ከረጢት\\n👉 1.8 ሊትር...   \n",
       "1                                 ❇️Hair Scalp Massager   \n",
       "2     ❇️Hair Scalp Massager\\n\\n﻿﻿👉Stimulate blood fl...   \n",
       "3                                             የፀጉር መፈረዣ   \n",
       "4     ✅ የፀጉር መፈረዣ ✅\\n\\n📌ለሁሉም አይነት ፀጉር የሚሆን እና ለ አጠቃቀ...   \n",
       "...                                                 ...   \n",
       "3298  ☎️0911-76-22-01\\n     ዋጋ 1200 ብር \\n❣️❣️🇪🇹🇪🇹 በ ...   \n",
       "3301  ❤️❤️❤️ አዳማ ❤️❤️❤️\\n     🎯የጀርባ ችግር አለቦት\\n      ...   \n",
       "3304  ❣ለውስን ጊዜ የሚቆይ ታላቅ ቅናሽ❣\\n  💯አንድ  Smart watch ሲገ...   \n",
       "3305  ❤ አዳማ /ናዝሬት ❤\\n           0911-76-22-01\\n❣️❣️🇪...   \n",
       "3309  ☎️  0911-76-22-01\\n        🇪🇹 አዳማ / ናዝሬት 🇪🇹\\n ...   \n",
       "\n",
       "                           Date                    Media Path  \n",
       "0     2024-09-25 08:36:52+00:00  photos/@gebeyaadama_4043.jpg  \n",
       "1     2024-09-25 08:33:14+00:00                           NaN  \n",
       "2     2024-09-25 08:32:54+00:00  photos/@gebeyaadama_4041.jpg  \n",
       "3     2024-09-25 07:19:39+00:00                           NaN  \n",
       "4     2024-09-25 07:19:27+00:00  photos/@gebeyaadama_4039.jpg  \n",
       "...                         ...                           ...  \n",
       "3298  2020-10-06 09:06:46+00:00                           NaN  \n",
       "3301  2020-10-05 18:04:46+00:00    photos/@gebeyaadama_14.jpg  \n",
       "3304  2020-10-05 12:08:36+00:00    photos/@gebeyaadama_10.jpg  \n",
       "3305  2020-10-05 04:58:56+00:00     photos/@gebeyaadama_9.jpg  \n",
       "3309  2020-10-03 12:59:26+00:00                           NaN  \n",
       "\n",
       "[2488 rows x 6 columns]"
      ]
     },
     "execution_count": 5,
     "metadata": {},
     "output_type": "execute_result"
    }
   ],
   "source": [
    "processor.drop_missing_messsage(tg_data)"
   ]
  },
  {
   "cell_type": "markdown",
   "metadata": {},
   "source": [
    "## Remove emojis and extra spaces from the messages"
   ]
  },
  {
   "cell_type": "code",
   "execution_count": 6,
   "metadata": {},
   "outputs": [
    {
     "data": {
      "text/plain": [
       "0       Hot Water Bag\\n የትኩስ ውሃ መያዢያ ከረጢት\\n 1.8 ሊትር ውሃ...\n",
       "1                                     Hair Scalp Massager\n",
       "2       Hair Scalp Massager\\nStimulate blood flow to t...\n",
       "3                                               የፀጉር መፈረዣ\n",
       "4        የፀጉር መፈረዣ \\nለሁሉም አይነት ፀጉር የሚሆን እና ለ አጠቃቀም ምቹ\\...\n",
       "                              ...                        \n",
       "3298    0911-76-22-01\\n     ዋጋ 1200 ብር \\n በ ሆድ የሰውነት ክ...\n",
       "3301     አዳማ \\n     የጀርባ ችግር አለቦት\\n        0911-76-22-...\n",
       "3304    ለውስን ጊዜ የሚቆይ ታላቅ ቅናሽ\\n  አንድ  Smart watch ሲገዙ በ...\n",
       "3305     አዳማ /ናዝሬት \\n           0911-76-22-01\\n በ ሆድ የ...\n",
       "3309      0911-76-22-01\\n         አዳማ / ናዝሬት \\n     የጁ...\n",
       "Name: Message, Length: 2488, dtype: object"
      ]
     },
     "execution_count": 6,
     "metadata": {},
     "output_type": "execute_result"
    }
   ],
   "source": [
    "processor.clean_message(tg_data)"
   ]
  },
  {
   "cell_type": "markdown",
   "metadata": {},
   "source": [
    "## Filter the data to keep only amharic messages\n",
    "Since the project is focused on *Amharic Named Entity Recognition* and the data have a mixed language (amharic and english) it is essential filtering out.in this case keep meaages that have 50% or more amharic characters."
   ]
  },
  {
   "cell_type": "code",
   "execution_count": 7,
   "metadata": {},
   "outputs": [],
   "source": [
    "tg_data=processor.filter_amharic(tg_data)"
   ]
  },
  {
   "cell_type": "markdown",
   "metadata": {},
   "source": [
    "## Label messages\n",
    "We are going to label a portion of the provided dataset in the CoNLL format. This format is commonly used for Named Entity Recognition (NER) tasks.\n",
    "The goal is to identify and label entities such as products, price, and Location in Amharic text.\n",
    "Entity Types:\n",
    "\n",
    "**B-Product:** The beginning of a product entity (e.g., \"Baby bottle\"). \n",
    "\n",
    "**I-Product:** Inside a product entity (e.g., the word \"bottle\" in \"Baby bottle\").\n",
    "\n",
    "**B-LOC:** The beginning of a location entity (e.g., \"Addis abeba\", \"Bole\").\n",
    "\n",
    "**I-LOC:** Inside a location entity (e.g., the word \"Abeba\" in “Addis abeba”)\n",
    "\n",
    "**B-PRICE:** The beginning of a price entity (e.g., \"ዋጋ 1000 ብር\", \"በ 100 ብር\").\n",
    "\n",
    "**I -PRICE፡** Inside a price entity (e.g., the word \"1000\" in “ዋጋ 1000 ብር”)\n",
    "\n",
    "**O:** Tokens that are outside any entities\n"
   ]
  },
  {
   "cell_type": "code",
   "execution_count": 9,
   "metadata": {},
   "outputs": [
    {
     "name": "stdout",
     "output_type": "stream",
     "text": [
      "Data has been saved to conll_format_data.txt\n"
     ]
    }
   ],
   "source": [
    "processor.label_and_save_dataset(tg_data,'conll_format_data.txt')"
   ]
  }
 ],
 "metadata": {
  "kernelspec": {
   "display_name": ".venv",
   "language": "python",
   "name": "python3"
  },
  "language_info": {
   "codemirror_mode": {
    "name": "ipython",
    "version": 3
   },
   "file_extension": ".py",
   "mimetype": "text/x-python",
   "name": "python",
   "nbconvert_exporter": "python",
   "pygments_lexer": "ipython3",
   "version": "3.9.9"
  }
 },
 "nbformat": 4,
 "nbformat_minor": 2
}

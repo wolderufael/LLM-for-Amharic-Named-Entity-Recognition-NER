{
 "cells": [
  {
   "cell_type": "markdown",
   "metadata": {},
   "source": [
    "# Data Procesing and Labeling\n"
   ]
  },
  {
   "cell_type": "code",
   "execution_count": 1,
   "metadata": {},
   "outputs": [],
   "source": [
    "import pandas as pd\n",
    "import os\n",
    "notebook_dir = os.getcwd()\n",
    "parent_path=os.path.dirname(notebook_dir)\n",
    "\n",
    "os.chdir(parent_path)"
   ]
  },
  {
   "cell_type": "code",
   "execution_count": 2,
   "metadata": {},
   "outputs": [],
   "source": [
    "from script.data_processor_labler import Processor"
   ]
  },
  {
   "cell_type": "markdown",
   "metadata": {},
   "source": [
    "**Instance of the imported class**"
   ]
  },
  {
   "cell_type": "code",
   "execution_count": 3,
   "metadata": {},
   "outputs": [],
   "source": [
    "processor=Processor()"
   ]
  },
  {
   "cell_type": "markdown",
   "metadata": {},
   "source": [
    "**Load the data which was scrapped from**"
   ]
  },
  {
   "cell_type": "code",
   "execution_count": 4,
   "metadata": {},
   "outputs": [],
   "source": [
    "tg_data=pd.read_csv(\"data/adamagebeya_telegram_data.csv\")"
   ]
  },
  {
   "cell_type": "markdown",
   "metadata": {},
   "source": [
    "### Handle missing data\n",
    "Drop the row which does not have a messgae"
   ]
  },
  {
   "cell_type": "code",
   "execution_count": 5,
   "metadata": {},
   "outputs": [
    {
     "data": {
      "text/html": [
       "<div>\n",
       "<style scoped>\n",
       "    .dataframe tbody tr th:only-of-type {\n",
       "        vertical-align: middle;\n",
       "    }\n",
       "\n",
       "    .dataframe tbody tr th {\n",
       "        vertical-align: top;\n",
       "    }\n",
       "\n",
       "    .dataframe thead th {\n",
       "        text-align: right;\n",
       "    }\n",
       "</style>\n",
       "<table border=\"1\" class=\"dataframe\">\n",
       "  <thead>\n",
       "    <tr style=\"text-align: right;\">\n",
       "      <th></th>\n",
       "      <th>Channel Title</th>\n",
       "      <th>Channel Username</th>\n",
       "      <th>ID</th>\n",
       "      <th>Message</th>\n",
       "      <th>Date</th>\n",
       "      <th>Media Path</th>\n",
       "    </tr>\n",
       "  </thead>\n",
       "  <tbody>\n",
       "    <tr>\n",
       "      <th>0</th>\n",
       "      <td>አዳማ ገበያ - Adama gebeya</td>\n",
       "      <td>@gebeyaadama</td>\n",
       "      <td>4043</td>\n",
       "      <td>✅Hot Water Bag\\n🎯 የትኩስ ውሃ መያዢያ ከረጢት\\n👉 1.8 ሊትር...</td>\n",
       "      <td>2024-09-25 08:36:52+00:00</td>\n",
       "      <td>photos/@gebeyaadama_4043.jpg</td>\n",
       "    </tr>\n",
       "    <tr>\n",
       "      <th>1</th>\n",
       "      <td>አዳማ ገበያ - Adama gebeya</td>\n",
       "      <td>@gebeyaadama</td>\n",
       "      <td>4042</td>\n",
       "      <td>❇️Hair Scalp Massager</td>\n",
       "      <td>2024-09-25 08:33:14+00:00</td>\n",
       "      <td>NaN</td>\n",
       "    </tr>\n",
       "    <tr>\n",
       "      <th>2</th>\n",
       "      <td>አዳማ ገበያ - Adama gebeya</td>\n",
       "      <td>@gebeyaadama</td>\n",
       "      <td>4041</td>\n",
       "      <td>❇️Hair Scalp Massager\\n\\n﻿﻿👉Stimulate blood fl...</td>\n",
       "      <td>2024-09-25 08:32:54+00:00</td>\n",
       "      <td>photos/@gebeyaadama_4041.jpg</td>\n",
       "    </tr>\n",
       "    <tr>\n",
       "      <th>3</th>\n",
       "      <td>አዳማ ገበያ - Adama gebeya</td>\n",
       "      <td>@gebeyaadama</td>\n",
       "      <td>4040</td>\n",
       "      <td>የፀጉር መፈረዣ</td>\n",
       "      <td>2024-09-25 07:19:39+00:00</td>\n",
       "      <td>NaN</td>\n",
       "    </tr>\n",
       "    <tr>\n",
       "      <th>4</th>\n",
       "      <td>አዳማ ገበያ - Adama gebeya</td>\n",
       "      <td>@gebeyaadama</td>\n",
       "      <td>4039</td>\n",
       "      <td>✅ የፀጉር መፈረዣ ✅\\n\\n📌ለሁሉም አይነት ፀጉር የሚሆን እና ለ አጠቃቀ...</td>\n",
       "      <td>2024-09-25 07:19:27+00:00</td>\n",
       "      <td>photos/@gebeyaadama_4039.jpg</td>\n",
       "    </tr>\n",
       "    <tr>\n",
       "      <th>...</th>\n",
       "      <td>...</td>\n",
       "      <td>...</td>\n",
       "      <td>...</td>\n",
       "      <td>...</td>\n",
       "      <td>...</td>\n",
       "      <td>...</td>\n",
       "    </tr>\n",
       "    <tr>\n",
       "      <th>3298</th>\n",
       "      <td>አዳማ ገበያ - Adama gebeya</td>\n",
       "      <td>@gebeyaadama</td>\n",
       "      <td>17</td>\n",
       "      <td>☎️0911-76-22-01\\n     ዋጋ 1200 ብር \\n❣️❣️🇪🇹🇪🇹 በ ...</td>\n",
       "      <td>2020-10-06 09:06:46+00:00</td>\n",
       "      <td>NaN</td>\n",
       "    </tr>\n",
       "    <tr>\n",
       "      <th>3301</th>\n",
       "      <td>አዳማ ገበያ - Adama gebeya</td>\n",
       "      <td>@gebeyaadama</td>\n",
       "      <td>14</td>\n",
       "      <td>❤️❤️❤️ አዳማ ❤️❤️❤️\\n     🎯የጀርባ ችግር አለቦት\\n      ...</td>\n",
       "      <td>2020-10-05 18:04:46+00:00</td>\n",
       "      <td>photos/@gebeyaadama_14.jpg</td>\n",
       "    </tr>\n",
       "    <tr>\n",
       "      <th>3304</th>\n",
       "      <td>አዳማ ገበያ - Adama gebeya</td>\n",
       "      <td>@gebeyaadama</td>\n",
       "      <td>10</td>\n",
       "      <td>❣ለውስን ጊዜ የሚቆይ ታላቅ ቅናሽ❣\\n  💯አንድ  Smart watch ሲገ...</td>\n",
       "      <td>2020-10-05 12:08:36+00:00</td>\n",
       "      <td>photos/@gebeyaadama_10.jpg</td>\n",
       "    </tr>\n",
       "    <tr>\n",
       "      <th>3305</th>\n",
       "      <td>አዳማ ገበያ - Adama gebeya</td>\n",
       "      <td>@gebeyaadama</td>\n",
       "      <td>9</td>\n",
       "      <td>❤ አዳማ /ናዝሬት ❤\\n           0911-76-22-01\\n❣️❣️🇪...</td>\n",
       "      <td>2020-10-05 04:58:56+00:00</td>\n",
       "      <td>photos/@gebeyaadama_9.jpg</td>\n",
       "    </tr>\n",
       "    <tr>\n",
       "      <th>3309</th>\n",
       "      <td>አዳማ ገበያ - Adama gebeya</td>\n",
       "      <td>@gebeyaadama</td>\n",
       "      <td>3</td>\n",
       "      <td>☎️  0911-76-22-01\\n        🇪🇹 አዳማ / ናዝሬት 🇪🇹\\n ...</td>\n",
       "      <td>2020-10-03 12:59:26+00:00</td>\n",
       "      <td>NaN</td>\n",
       "    </tr>\n",
       "  </tbody>\n",
       "</table>\n",
       "<p>2488 rows × 6 columns</p>\n",
       "</div>"
      ],
      "text/plain": [
       "               Channel Title Channel Username    ID  \\\n",
       "0     አዳማ ገበያ - Adama gebeya     @gebeyaadama  4043   \n",
       "1     አዳማ ገበያ - Adama gebeya     @gebeyaadama  4042   \n",
       "2     አዳማ ገበያ - Adama gebeya     @gebeyaadama  4041   \n",
       "3     አዳማ ገበያ - Adama gebeya     @gebeyaadama  4040   \n",
       "4     አዳማ ገበያ - Adama gebeya     @gebeyaadama  4039   \n",
       "...                      ...              ...   ...   \n",
       "3298  አዳማ ገበያ - Adama gebeya     @gebeyaadama    17   \n",
       "3301  አዳማ ገበያ - Adama gebeya     @gebeyaadama    14   \n",
       "3304  አዳማ ገበያ - Adama gebeya     @gebeyaadama    10   \n",
       "3305  አዳማ ገበያ - Adama gebeya     @gebeyaadama     9   \n",
       "3309  አዳማ ገበያ - Adama gebeya     @gebeyaadama     3   \n",
       "\n",
       "                                                Message  \\\n",
       "0     ✅Hot Water Bag\\n🎯 የትኩስ ውሃ መያዢያ ከረጢት\\n👉 1.8 ሊትር...   \n",
       "1                                 ❇️Hair Scalp Massager   \n",
       "2     ❇️Hair Scalp Massager\\n\\n﻿﻿👉Stimulate blood fl...   \n",
       "3                                             የፀጉር መፈረዣ   \n",
       "4     ✅ የፀጉር መፈረዣ ✅\\n\\n📌ለሁሉም አይነት ፀጉር የሚሆን እና ለ አጠቃቀ...   \n",
       "...                                                 ...   \n",
       "3298  ☎️0911-76-22-01\\n     ዋጋ 1200 ብር \\n❣️❣️🇪🇹🇪🇹 በ ...   \n",
       "3301  ❤️❤️❤️ አዳማ ❤️❤️❤️\\n     🎯የጀርባ ችግር አለቦት\\n      ...   \n",
       "3304  ❣ለውስን ጊዜ የሚቆይ ታላቅ ቅናሽ❣\\n  💯አንድ  Smart watch ሲገ...   \n",
       "3305  ❤ አዳማ /ናዝሬት ❤\\n           0911-76-22-01\\n❣️❣️🇪...   \n",
       "3309  ☎️  0911-76-22-01\\n        🇪🇹 አዳማ / ናዝሬት 🇪🇹\\n ...   \n",
       "\n",
       "                           Date                    Media Path  \n",
       "0     2024-09-25 08:36:52+00:00  photos/@gebeyaadama_4043.jpg  \n",
       "1     2024-09-25 08:33:14+00:00                           NaN  \n",
       "2     2024-09-25 08:32:54+00:00  photos/@gebeyaadama_4041.jpg  \n",
       "3     2024-09-25 07:19:39+00:00                           NaN  \n",
       "4     2024-09-25 07:19:27+00:00  photos/@gebeyaadama_4039.jpg  \n",
       "...                         ...                           ...  \n",
       "3298  2020-10-06 09:06:46+00:00                           NaN  \n",
       "3301  2020-10-05 18:04:46+00:00    photos/@gebeyaadama_14.jpg  \n",
       "3304  2020-10-05 12:08:36+00:00    photos/@gebeyaadama_10.jpg  \n",
       "3305  2020-10-05 04:58:56+00:00     photos/@gebeyaadama_9.jpg  \n",
       "3309  2020-10-03 12:59:26+00:00                           NaN  \n",
       "\n",
       "[2488 rows x 6 columns]"
      ]
     },
     "execution_count": 5,
     "metadata": {},
     "output_type": "execute_result"
    }
   ],
   "source": [
    "processor.drop_missing_messsage(tg_data)"
   ]
  },
  {
   "cell_type": "markdown",
   "metadata": {},
   "source": [
    "## Remove emojis and extra spaces from the messages"
   ]
  },
  {
   "cell_type": "code",
   "execution_count": 6,
   "metadata": {},
   "outputs": [
    {
     "data": {
      "text/plain": [
       "0       Hot Water Bag\\n የትኩስ ውሃ መያዢያ ከረጢት\\n 1.8 ሊትር ውሃ...\n",
       "1                                     Hair Scalp Massager\n",
       "2       Hair Scalp Massager\\nStimulate blood flow to t...\n",
       "3                                               የፀጉር መፈረዣ\n",
       "4        የፀጉር መፈረዣ \\nለሁሉም አይነት ፀጉር የሚሆን እና ለ አጠቃቀም ምቹ\\...\n",
       "                              ...                        \n",
       "3298    0911-76-22-01\\n     ዋጋ 1200 ብር \\n በ ሆድ የሰውነት ክ...\n",
       "3301     አዳማ \\n     የጀርባ ችግር አለቦት\\n        0911-76-22-...\n",
       "3304    ለውስን ጊዜ የሚቆይ ታላቅ ቅናሽ\\n  አንድ  Smart watch ሲገዙ በ...\n",
       "3305     አዳማ /ናዝሬት \\n           0911-76-22-01\\n በ ሆድ የ...\n",
       "3309      0911-76-22-01\\n         አዳማ / ናዝሬት \\n     የጁ...\n",
       "Name: Message, Length: 2488, dtype: object"
      ]
     },
     "execution_count": 6,
     "metadata": {},
     "output_type": "execute_result"
    }
   ],
   "source": [
    "processor.clean_message(tg_data)"
   ]
  },
  {
   "cell_type": "markdown",
   "metadata": {},
   "source": [
    "## Filter the data to keep only amharic messages\n",
    "Since the project is focused on *Amharic Named Entity Recognition* and the data have a mixed language (amharic and english) it is essential filtering out.in this case keep meaages that have 50% or more amharic characters."
   ]
  },
  {
   "cell_type": "code",
   "execution_count": 16,
   "metadata": {},
   "outputs": [],
   "source": [
    "tg_data=processor.filter_amharic(tg_data)"
   ]
  },
  {
   "cell_type": "markdown",
   "metadata": {},
   "source": [
    "## Label messages\n",
    "We are going to label a portion of the provided dataset in the CoNLL format. This format is commonly used for Named Entity Recognition (NER) tasks.\n",
    "The goal is to identify and label entities such as products, price, and Location in Amharic text.\n",
    "Entity Types:\n",
    "\n",
    "**B-Product:** The beginning of a product entity (e.g., \"Baby bottle\"). \n",
    "\n",
    "**I-Product:** Inside a product entity (e.g., the word \"bottle\" in \"Baby bottle\").\n",
    "\n",
    "**B-LOC:** The beginning of a location entity (e.g., \"Addis abeba\", \"Bole\").\n",
    "\n",
    "**I-LOC:** Inside a location entity (e.g., the word \"Abeba\" in “Addis abeba”)\n",
    "\n",
    "**B-PRICE:** The beginning of a price entity (e.g., \"ዋጋ 1000 ብር\", \"በ 100 ብር\").\n",
    "\n",
    "**I -PRICE፡** Inside a price entity (e.g., the word \"1000\" in “ዋጋ 1000 ብር”)\n",
    "\n",
    "**O:** Tokens that are outside any entities\n"
   ]
  },
  {
   "cell_type": "code",
   "execution_count": 10,
   "metadata": {},
   "outputs": [],
   "source": [
    "# processor.label_dataset(tg_data)"
   ]
  },
  {
   "cell_type": "code",
   "execution_count": 17,
   "metadata": {},
   "outputs": [],
   "source": [
    "import re\n",
    "\n",
    "def label_message(message):\n",
    "    # Define price and phone number patterns\n",
    "    price_pattern = re.compile(r'\\b\\d{3,5}\\s?ብር\\b')\n",
    "    phone_pattern = re.compile(r'(\\+2519\\d{8}\\b|\\b09\\d{8}\\b)')\n",
    "    \n",
    "    # Split tokens by newline\n",
    "    tokens = message.split('\\n')\n",
    "    labels = []\n",
    "    loc_flag = False  # To flag location entity start\n",
    "    product_flag = False  # To flag that product labeling is in progress\n",
    "    \n",
    "    for i, token in enumerate(tokens):\n",
    "        # Check if the token is a beginning token (first token) or contains specific keywords\n",
    "        if i == 0 and all(city not in token for city in ['አዳማ', 'አዲስ አበባ']):\n",
    "            labels.append('B-Product')  # Mark the first token or specified keywords as B-Product\n",
    "            product_flag = True  # Set product flag\n",
    "            continue\n",
    "        \n",
    "        # Check for phone number, 'አድራሻ', or 'አድራሻችን', and label as 'O'\n",
    "        if phone_pattern.match(token) or token in ['አድራሻ', 'አድራሻችን']:\n",
    "            labels.append('O')\n",
    "            product_flag = False  # Reset product flag after encountering these\n",
    "            continue\n",
    "        \n",
    "        # Check for price pattern and label as 'B-PRICE'\n",
    "        if price_pattern.match(token):\n",
    "            labels.append('B-PRICE')\n",
    "            product_flag = False  # Reset product flag\n",
    "            loc_flag = False  # Reset location flag\n",
    "            continue\n",
    "        \n",
    "        # If token is part of a location entity\n",
    "        if loc_flag:\n",
    "            if token == 'ቴሌግራም' or re.match(r'https?://t\\.me/\\w+', token):\n",
    "                loc_flag = False  # Stop marking as location if we hit Telegram or link\n",
    "                labels.append('O')\n",
    "            else:\n",
    "                labels.append('B-LOC')  # Mark as B-LOC for location entities\n",
    "                continue\n",
    "        \n",
    "        # Start a location entity if the previous token was a location keyword\n",
    "        if labels and labels[-1] in ['O', 'B-LOC']:\n",
    "            loc_flag = True  # Set location flag for subsequent tokens\n",
    "        \n",
    "        # If none of the above, label as 'O'\n",
    "        labels.append('O')\n",
    "    \n",
    "    # Return tokens and corresponding labels\n",
    "    return list(zip(tokens, labels))\n",
    "\n"
   ]
  },
  {
   "cell_type": "code",
   "execution_count": 18,
   "metadata": {},
   "outputs": [
    {
     "data": {
      "text/plain": [
       "[('Hot Water Bag', 'B-Product'),\n",
       " (' የትኩስ ውሃ መያዢያ ከረጢት', 'O'),\n",
       " (' 1.8 ሊትር ውሃ ይይዛል', 'O'),\n",
       " (' ሙቀት ከሚቋቋም ወፍራም ጎማ የተሰራ', 'B-LOC'),\n",
       " (' አስተማማኝ ክዳን ያለው', 'B-LOC'),\n",
       " (' ወፍራም ጨርቅ ያለው', 'B-LOC'),\n",
       " (' ከወር አበባ', 'B-LOC'),\n",
       " (' ፣ ከወገብ ህመም፣ ከመደንዘዝ፣ ከደም ስር መዞርና ከውልቃት ጋር የተያያዙ ህመሞችን ለማስታገስ ይረዳል',\n",
       "  'B-LOC'),\n",
       " (' 750 ብር', 'B-LOC'),\n",
       " (' 0911762201', 'B-LOC'),\n",
       " (' 0972824252', 'B-LOC'),\n",
       " (' 0988404491', 'B-LOC'),\n",
       " (' 0922282582', 'B-LOC'),\n",
       " ('በቴሌግራም ለማዘዝ @GebeyaAdama21 ', 'B-LOC'),\n",
       " (' ', 'B-LOC'),\n",
       " (' አድራሻችን', 'B-LOC'),\n",
       " (' ', 'B-LOC'),\n",
       " ('አዳማ ፖስታ ቤት', 'B-LOC'),\n",
       " (' ሶሬቲ ', 'B-LOC'),\n",
       " ('ሞል ምድር ላይ ሱ.ቁ 33', 'B-LOC'),\n",
       " ('ይሄንን በመጫን የቤተሰባችን አባል ይሁኑ', 'B-LOC'),\n",
       " (' ', 'B-LOC'),\n",
       " ('https://t.me/gebeyaadama', 'O'),\n",
       " (' የመረጡትን እቃ ይዘዙ፤ ያሉበት እናደርሳለን!!', 'O'),\n",
       " (' በኪስዎ ጥሬ ገንዘብ ካልያዙ በሞባይል ማስተላለፍ ይችላሉ።', 'B-LOC')]"
      ]
     },
     "execution_count": 18,
     "metadata": {},
     "output_type": "execute_result"
    }
   ],
   "source": [
    "message=\"Hot Water Bag የትኩስ ውሃ መያዢያ ከረጢት 1.8 ሊትር ውሃ ይይዛል ሙቀት ከሚቋቋም ወፍራም ጎማ የተሰራ አስተማማኝ ክዳን ያለው ወፍራም ጨርቅ ያለው ከወር አበባ ፣ ከወገብ ህመም፣ ከመደንዘዝ፣ ከደም ስር መዞርና ከውልቃት ጋር የተያያዙ ህመሞችን ለማስታገስ ይረዳል 750 ብር 0911762201 0972824252 0988404491 0922282582 በቴሌግራም ለማዘዝ @GebeyaAdama21 አድራሻችን አዳማ ፖስታ ቤት ሶሬቲ ሞል ምድር ላይ ሱ.ቁ 33 ይሄንን በመጫን የቤተሰባችን አባል ይሁኑ https://t.me/gebeyaadama የመረጡትን እቃ ይዘዙ፤ ያሉበት እናደርሳለን!! በኪስዎ ጥሬ ገንዘብ ካልያዙ በሞባይል ማስተላለፍ ይችላሉ።\"\n",
    "\n",
    "label_message(tg_data.Message[0])\n",
    "# tg_data.Message[0]"
   ]
  }
 ],
 "metadata": {
  "kernelspec": {
   "display_name": ".venv",
   "language": "python",
   "name": "python3"
  },
  "language_info": {
   "codemirror_mode": {
    "name": "ipython",
    "version": 3
   },
   "file_extension": ".py",
   "mimetype": "text/x-python",
   "name": "python",
   "nbconvert_exporter": "python",
   "pygments_lexer": "ipython3",
   "version": "3.9.9"
  }
 },
 "nbformat": 4,
 "nbformat_minor": 2
}
